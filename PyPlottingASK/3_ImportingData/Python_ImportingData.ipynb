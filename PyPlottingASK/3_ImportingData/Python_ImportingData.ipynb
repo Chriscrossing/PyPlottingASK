{
 "cells": [
  {
   "cell_type": "markdown",
   "metadata": {},
   "source": [
    "# Importing data into Python"
   ]
  },
  {
   "cell_type": "markdown",
   "metadata": {},
   "source": [
    "### You have options\n",
    "\n",
    "There is a few paths you can take here when importing data, you may want to do it fairly mantually with the `csv` module, or quick and simple with `numpy.genfromtxt()` alternatively maybe you prefer working with dataframes from `pandas`  "
   ]
  },
  {
   "cell_type": "markdown",
   "metadata": {},
   "source": [
    "## CSV\n",
    "\n",
    "\n",
    "## XLS \n",
    "\n",
    "\n",
    "## Plain TXT\n"
   ]
  },
  {
   "cell_type": "markdown",
   "metadata": {},
   "source": []
  }
 ],
 "metadata": {
  "language_info": {
   "name": "python"
  },
  "orig_nbformat": 4
 },
 "nbformat": 4,
 "nbformat_minor": 2
}
