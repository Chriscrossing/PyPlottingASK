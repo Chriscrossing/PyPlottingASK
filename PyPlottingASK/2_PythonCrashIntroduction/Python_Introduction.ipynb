{
 "cells": [
  {
   "cell_type": "markdown",
   "metadata": {},
   "source": [
    "# Python Introduction \n",
    "\n",
    "Python was first developed in the late 1980s by Guido van Rossum, a Dutch programmer who was\n",
    "also a fan of the BBC's rather silly TV programme Monty Python's Flying Circus. It is one the most\n",
    "popular coding languages in the world and has wide-ranging applications from data science to\n",
    "web frameworks. Because of its popularity many, many third party packages exist, this includes plotting and mathematics, but also more obscure areas like laboratory instrument control and many different GUI interfaces.\n",
    "\n",
    "To name just a few other bits of software powered by Python, that you've probably used today:\n",
    "Google, Instagram, Spotify, Dropbox, Wikipedia and Amazon...\n",
    "\n",
    "I'm going to be writing this tutorial in Jupyter Notebook form, with documentation written in markdown code, as is how the text that you're reading right now is formatted. However, please do not feel you also have to use Jupyter notebook! There are many other methods that you may find easier, such as the Spyder IDE or even a text editor and running the python code using a terminal. Feel free to copy and paste code blocks into whatever application you are using to run python. Just be aware that Jupyter notebook maintains variables between code blocks and I won't always be repeating variable assignments as we go along. So if yo get an error running this code in something else, unassigned variable should be your first item to check. \n",
    "\n",
    "## Python 2 and Python 3\n",
    "Versions 2 and 3 of Python were released in 2000 and 2008 respectively. Because Python 3 was\n",
    "not entirely backward compatible, this caused a bit of a fork in usage. The result is that both were\n",
    "actively used for many years, and although the official \"end-of-life\" for Python 2 was 1st January 2020, you still see it around on occasion.\n",
    "\n",
    "It's a no-brainer for us to use Python 3, but this is worth bearing in mind e.g. when you are\n",
    "browsing for documentation or help."
   ]
  },
  {
   "cell_type": "markdown",
   "metadata": {},
   "source": [
    "# Python Resources\n",
    "\n",
    "A large part of coding is not knowing all the functions and methods to do what you want to do, but knowing the format and structure of the coding language being used and being able to \"Google\" your way to find the most efficient functions to use for your task. \n",
    "\n",
    "Though you can't trust every site that pops up on google, some good places to start are: \n",
    "\n",
    "1) in any python terminal you can use the function `help()` on any function to get a print out of a brief manual\n",
    "\n",
    "2) Websites such as [Python Docs](https://docs.python.org/3/library/stdtypes.html), [W3schools](https://w3schools.com/python) and [Real Python](https://realpython.com) have a lot of python resources, and more detailed manuals for built in and commonly used functions. \n",
    "\n",
    "3) Additionally nearly all python packages are built and distrobuted on github, for example the python package [LmFit](https://github.com/lmfit/lmfit-py) and most of the time you can find an examples folder where you can use their code for your project. \n"
   ]
  },
  {
   "cell_type": "markdown",
   "metadata": {},
   "source": [
    "# How can Python code be run?\n",
    "\n",
    "Python is an interpreted language, this means that when you run a python file that the python software converts the files contents on the fly into machine code that your computers processor can understand. The alternative would be a coding language where the code has to be compiled into another file format before it is ran by your cpu, an example of this is c++. Python is also a relatively high level language, this means that the majority of the code is abstracted into easy to use functions. \n",
    "\n",
    "If you want to run simple operations in a linear fassion such as using python as a calculator you may simply open up a python terminal window. Try this out! \n",
    "\n",
    "1) Open up Anaconda and then the Spyder app.\\\n",
    "2) The bottom right window in Spyder is the IPython console! \\\n",
    "3) In the IPython console you may type out python code one line at a time; \n",
    "\n",
    ">```python \n",
    ">In [1] 1+2 \n",
    ">\n",
    ">Out[1] 3 \n",
    ">```\n",
    "\n",
    "You may even import a package into the current enviroment and use a function:\n",
    "\n",
    ">```python \n",
    ">In [2] import numpy as np \n",
    ">\n",
    ">In [3] np.sqrt(2)\n",
    ">Out[3] 1.4142135623730951 \n",
    "\n",
    "We just worked out the square-root of 2, you could in theory write all of your code like this. But then what if you made a mistake, or wanted to run the same code again with a different variable? That would be majorly inconvenient!! \n",
    "\n",
    "So to make coding simpler we can write python scripts and save them for later use, you never know when you'll forget how to square-root a number and will need to look at a previous file for that pesky numpy square-root function!! \n",
    "\n",
    "> Then when you come to finish a script, if you are using spyder, press the green arrow to run that whole file in the terminal window. Or use the keyboard shortcut `F5`. The shortcut to run a code block in jupter notebook is `shift+enter`."
   ]
  },
  {
   "cell_type": "markdown",
   "metadata": {},
   "source": [
    "# The structure of a Python file\n",
    "\n",
    "When we want to write longer sections of code, we write out our code in `.py` files, it is important to understand that the code is exicuted line by line in order from top to bottom. So you must keep in mind cause and effect! Assigning variables before you operate on them. \n",
    "\n",
    "Every Python file usually follows a similar structure, it is good to start with a large comment to tell anyone other than the coder what the file does. Next will be where packages are imported into the environment and finally the python code to be executed. Along with clear comments for what is going on in the code. You never know who will need to read your code or if you'll actually remember what's going on in the future. \n",
    "\n",
    "A typical file structure might look like the following code block:\n",
    "\n",
    "> Remember, if you are viewing this on the web, copy and paste the code block into spyder. You may also download this document as a jupyter notebook and use that instead, where you can simply run the notebook block below on its own, changing values to mess around and understand the process fully. "
   ]
  },
  {
   "cell_type": "code",
   "execution_count": 30,
   "metadata": {},
   "outputs": [
    {
     "name": "stdout",
     "output_type": "stream",
     "text": [
      "1.4142135623730951\n"
     ]
    }
   ],
   "source": [
    "\"\"\"\n",
    "This is a block comment, python will ignore anything between tripple quotation marks!\n",
    "\n",
    "This Files purpose is to hopefully teach you something\n",
    "\n",
    "feel free to copy\n",
    "\"\"\"\n",
    "\n",
    "# this is another type of commenting, python will ignore anything after a hashtag!\n",
    "\n",
    "import numpy as np # Import numpy\n",
    "\n",
    "\n",
    "MyNumber = 2   # assigned a variable\n",
    "\n",
    "MySquareRoot = np.sqrt(MyNumber) # remember to sqrt using the numpy function\n",
    "\n",
    "print(MySquareRoot) # print answer"
   ]
  },
  {
   "cell_type": "markdown",
   "metadata": {},
   "source": [
    "# Asigning variables\n",
    "\n",
    "As shown in the above code block, it is a frequent occurance to assign variables and is done using the equals sign. Importantly variable names in Python are case sensitive, this means you may have both the variables `MyVar` and `myvar` assigned in your script, variable names can have numbers but just not at the start and spaces are not allowed, keep this in mind when debugging! It is good practice to have descriptive variable names, along with comments.\n"
   ]
  },
  {
   "cell_type": "code",
   "execution_count": 25,
   "metadata": {},
   "outputs": [],
   "source": [
    "x = 10"
   ]
  },
  {
   "cell_type": "markdown",
   "metadata": {},
   "source": [
    "Now that you're assigning variables, python doesn't automatically print that assignment, you can check your variable assignment with the `print()` function."
   ]
  },
  {
   "cell_type": "code",
   "execution_count": 6,
   "metadata": {},
   "outputs": [
    {
     "name": "stdout",
     "output_type": "stream",
     "text": [
      "10\n"
     ]
    }
   ],
   "source": [
    "print(x)"
   ]
  },
  {
   "cell_type": "markdown",
   "metadata": {},
   "source": [
    "You may also like to check the variable type, easily done with the `type` function."
   ]
  },
  {
   "cell_type": "code",
   "execution_count": 7,
   "metadata": {},
   "outputs": [
    {
     "data": {
      "text/plain": [
       "int"
      ]
     },
     "execution_count": 7,
     "metadata": {},
     "output_type": "execute_result"
    }
   ],
   "source": [
    "type(x)"
   ]
  },
  {
   "cell_type": "markdown",
   "metadata": {},
   "source": [
    "Hmm what is an int? That leads us onto the next section. "
   ]
  },
  {
   "cell_type": "markdown",
   "metadata": {},
   "source": [
    "\n",
    "# Variable types\n",
    "\n",
    "## Numbers \n",
    "\n",
    "Numbers can be allocated to memory in three possible variable types, either as a **integer**, **float** or a **complex** variable. \n",
    "\n",
    "### Integers\n",
    "\n",
    "An integer denotes a whole number that has no decimal point, e.g. `1`, `-99`. It will be assigned as a variable if you don't type out a number with a decimal component. \n"
   ]
  },
  {
   "cell_type": "code",
   "execution_count": 18,
   "metadata": {},
   "outputs": [
    {
     "name": "stdout",
     "output_type": "stream",
     "text": [
      "4\n",
      "<class 'int'>\n"
     ]
    }
   ],
   "source": [
    "MyInt = 4 \n",
    "\n",
    "print(MyInt)\n",
    "print(type(MyInt))"
   ]
  },
  {
   "cell_type": "markdown",
   "metadata": {},
   "source": [
    "### Floats\n",
    "\n",
    "A floating point number is a fractional number, i.e. `1.1`,`-99.23` and `1e23`. It will be assigned if you give a number a decimal component, even `1.0` will be assigned as a float. Note that `1e23` is equiverlent notation to $1 x 10^{23}$."
   ]
  },
  {
   "cell_type": "code",
   "execution_count": 26,
   "metadata": {},
   "outputs": [
    {
     "name": "stdout",
     "output_type": "stream",
     "text": [
      "1.0\n",
      "<class 'float'>\n"
     ]
    }
   ],
   "source": [
    "MyFloat = 1.0\n",
    "\n",
    "print(MyFloat)\n",
    "print(type(MyFloat))"
   ]
  },
  {
   "cell_type": "markdown",
   "metadata": {},
   "source": [
    "### Complex Number \n",
    "\n",
    "Though this won't be used in this course, it's good to know how to assign a complex value, to do this simply add on a second component affexed with the character `j` as follows: "
   ]
  },
  {
   "cell_type": "code",
   "execution_count": 27,
   "metadata": {},
   "outputs": [
    {
     "name": "stdout",
     "output_type": "stream",
     "text": [
      "(3.142+234j)\n",
      "<class 'complex'>\n"
     ]
    }
   ],
   "source": [
    "MyComplex = 3.142 + 234j\n",
    "\n",
    "print(MyComplex)\n",
    "print(type(MyComplex))"
   ]
  },
  {
   "cell_type": "markdown",
   "metadata": {},
   "source": [
    "## Strings\n",
    "\n",
    "Strings are a variable type akin to a line of text, e.g. `MyString = \"abc\"`. Strings have to be allocated deliberatly with quotation marks. Be careful assigning strings with special characters that're used in python itself, you can get around this by escaping, for example to use a appostriphy in a string you can use a backslash `MyString = \"abc\\'s\"` and this would print abc's. Additionally good to know is that strings may be appended with the `+` operator. "
   ]
  },
  {
   "cell_type": "code",
   "execution_count": 29,
   "metadata": {},
   "outputs": [
    {
     "name": "stdout",
     "output_type": "stream",
     "text": [
      "abc\n",
      "<class 'str'>\n"
     ]
    }
   ],
   "source": [
    "MyString = \"abc\"\n",
    "\n",
    "print(MyString)\n",
    "print(type(MyString))"
   ]
  },
  {
   "cell_type": "markdown",
   "metadata": {},
   "source": [
    "## Booleans \n",
    "\n",
    "A boolean is an object that has only two states, `True` or `False`. Refered to a `bool` in Python. You can either use the object `True` or integer `1`, similarly `False` is equivelent to `0`. \n",
    "\n",
    "Below is a quick test of that fact, you can see `True` is type bool and `1` is type int, but getting Python to decide if they're equivelent using the bitwise operator equal to `==` prints `True`. This means they are equiverelent. "
   ]
  },
  {
   "cell_type": "code",
   "execution_count": 4,
   "metadata": {},
   "outputs": [
    {
     "name": "stdout",
     "output_type": "stream",
     "text": [
      "<class 'bool'>\n",
      "<class 'int'>\n",
      "True\n"
     ]
    }
   ],
   "source": [
    "print(type(True))\n",
    "print(type(1))\n",
    "\n",
    "print( True == 1)"
   ]
  },
  {
   "cell_type": "markdown",
   "metadata": {},
   "source": [
    "What is interesting is this is actually how all computers comunicate, in ones and zeros, binary. "
   ]
  },
  {
   "cell_type": "markdown",
   "metadata": {},
   "source": [
    "# Lists \n",
    "\n",
    "\n"
   ]
  },
  {
   "cell_type": "markdown",
   "metadata": {},
   "source": [
    "### Indexing and slicing\n",
    "\n",
    "## Tuples\n",
    "\n",
    "### Indexing\n",
    "\n",
    "## Dictionaries\n",
    "\n",
    "### Indexing"
   ]
  },
  {
   "cell_type": "markdown",
   "metadata": {},
   "source": [
    "# Arithmetic Operators\n",
    "\n",
    "\n",
    "\n",
    "</p>\n",
    "<table>\n",
    "<thead>\n",
    "<tr>\n",
    "<th>Operator</th>\n",
    "<th>Example input</th>\n",
    "<th>Example Output</th>\n",
    "</tr>\n",
    "</thead>\n",
    "<tbody>\n",
    "<tr>\n",
    "<td>+</td>\n",
    "<td><code>2 + 2</code></td>\n",
    "<td><code>4</code></td>\n",
    "</tr>\n",
    "<tr>\n",
    "<td>-</td>\n",
    "<td><code>3 - 2</code></td>\n",
    "<td><code>1</code></td>\n",
    "</tr>\n",
    "<tr>\n",
    "<td>*</td>\n",
    "<td><code>2 * 3</code></td>\n",
    "<td><code>6</code></td>\n",
    "</tr>\n",
    "<tr>\n",
    "<td>/</td>\n",
    "<td><code>4 / 2</code></td>\n",
    "<td><code>2</code></td>\n",
    "</tr>\n",
    "<tr>\n",
    "<td>**</td>\n",
    "<td><code>2 ** 3</code></td>\n",
    "<td><code>8</code></td>\n",
    "</tr>\n",
    "<tr>\n",
    "<td>% (modulo)</td>\n",
    "<td><code>10 % 3</code></td>\n",
    "<td><code>1</code></td>\n",
    "</tr>\n",
    "</tbody>\n",
    "</table>"
   ]
  },
  {
   "cell_type": "markdown",
   "metadata": {},
   "source": [
    "# Bitwise Operators \n",
    "\n",
    "</p>\n",
    "<table>\n",
    "<thead>\n",
    "<tr>\n",
    "<th>Operator</th>\n",
    "<th>Example input</th>\n",
    "<th>Example Output</th>\n",
    "</tr>\n",
    "</thead>\n",
    "<tbody>\n",
    "<tr>\n",
    "<td>equal to</td>\n",
    "<td><code>1 == 1</code></td>\n",
    "<td><code>True</code></td>\n",
    "</tr>\n",
    "<tr>\n",
    "<td>not equal to</td>\n",
    "<td><code>1 != 1</code></td>\n",
    "<td><code>False</code></td>\n",
    "</tr>\n",
    "<tr>\n",
    "<td>greater than</td>\n",
    "<td><code>1 > 2</code></td>\n",
    "<td><code>False</code></td>\n",
    "</tr>\n",
    "<tr>\n",
    "<td>less than</td>\n",
    "<td><code>1 < 2</code></td>\n",
    "<td><code>True</code></td>\n",
    "</tr>\n",
    "<tr>\n",
    "<td>greater or equal to</td>\n",
    "<td><code>1 >= 2</code></td>\n",
    "<td><code>False</code></td>\n",
    "</tr>\n",
    "<tr>\n",
    "<td>less than or equal to</td>\n",
    "<td><code>1 <= 2</code></td>\n",
    "<td><code>True</code></td>\n",
    "</tr>\n",
    "</tbody>\n",
    "</table>"
   ]
  },
  {
   "cell_type": "markdown",
   "metadata": {},
   "source": [
    "# Importing Packages"
   ]
  },
  {
   "cell_type": "markdown",
   "metadata": {},
   "source": [
    "# Using Functions\n",
    "\n",
    "<p>Here are some \"mathsy\" functions that we might use from the Python standard library</p>\n",
    "<table>\n",
    "<thead>\n",
    "<tr>\n",
    "<th>function</th>\n",
    "<th>Description</th>\n",
    "</tr>\n",
    "</thead>\n",
    "<tbody>\n",
    "<tr>\n",
    "<td><code>abs()</code></td>\n",
    "<td>Return the absolute value of a number</td>\n",
    "</tr>\n",
    "<tr>\n",
    "<td><code>len()</code></td>\n",
    "<td>Return the length of an object</td>\n",
    "</tr>\n",
    "<tr>\n",
    "<td><code>max()</code></td>\n",
    "<td>Find the largest value in a list or similar object</td>\n",
    "</tr>\n",
    "<tr>\n",
    "<td><code>min()</code></td>\n",
    "<td>Find the smallest value in a list or similar object</td>\n",
    "</tr>\n",
    "<tr>\n",
    "<td><code>print()</code></td>\n",
    "<td>Print the value of an object</td>\n",
    "</tr>\n",
    "<tr>\n",
    "<td><code>round()</code></td>\n",
    "<td>Round a number to a specified precision</td>\n",
    "</tr>\n",
    "<tr>\n",
    "<td><code>sum()</code></td>\n",
    "<td>Sum the values in a list or similar</td>\n",
    "</tr>\n",
    "</tbody>\n",
    "</table>\n",
    "<p>Lets take a look at a couple of examples</p>\n"
   ]
  },
  {
   "cell_type": "markdown",
   "metadata": {},
   "source": [
    "# Defining your own functions"
   ]
  },
  {
   "cell_type": "code",
   "execution_count": null,
   "metadata": {},
   "outputs": [],
   "source": []
  }
 ],
 "metadata": {
  "kernelspec": {
   "display_name": "Python 3 (ipykernel)",
   "language": "python",
   "name": "python3"
  },
  "language_info": {
   "codemirror_mode": {
    "name": "ipython",
    "version": 3
   },
   "file_extension": ".py",
   "mimetype": "text/x-python",
   "name": "python",
   "nbconvert_exporter": "python",
   "pygments_lexer": "ipython3",
   "version": "3.10.5"
  },
  "vscode": {
   "interpreter": {
    "hash": "8d904be4e2b915d74864095e2d051e926474d3fcdfd75ac59e46011c655fe56a"
   }
  }
 },
 "nbformat": 4,
 "nbformat_minor": 2
}
