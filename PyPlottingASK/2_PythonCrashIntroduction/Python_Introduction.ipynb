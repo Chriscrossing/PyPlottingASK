{
 "cells": [
  {
   "cell_type": "markdown",
   "metadata": {},
   "source": [
    "# Python Introduction \n",
    "\n",
    "Python was first developed in the late 1980s by Guido van Rossum, a Dutch programmer who was\n",
    "also a fan of the BBC's rather silly TV programme Monty Python's Flying Circus. It is one the most\n",
    "popular coding languages in the world and has wide-ranging applications from data science to\n",
    "web frameworks. Because of its popularity many, many third party packages exist, this includes plotting and mathematics, but also more obscure areas like laboratory instrument control and many different GUI interfaces.\n",
    "\n",
    "To name just a few other bits of software powered by Python, that you've probably used today:\n",
    "Google, Instagram, Spotify, Dropbox, Wikipedia and Amazon...\n",
    "\n",
    "I'm going to be writing this tutorial in Jupyter Notebook form, with documentation written in markdown code, as is how the text that you're reading right now is formatted. However, please do not feel you also have to use Jupyter notebook! There are many other methods that you may find easier, such as the Spyder IDE or even a text editor and running the python code using a terminal. Feel free to copy and paste code blocks into whatever application you are using to run python. Just be aware that Jupyter notebook maintains variables between code blocks and I won't always be repeating variable assignments as we go along. So if yo get an error running this code in something else, unassigned variable should be your first item to check. \n",
    "\n",
    "## Python 2 and Python 3\n",
    "Versions 2 and 3 of Python were released in 2000 and 2008 respectively. Because Python 3 was\n",
    "not entirely backward compatible, this caused a bit of a fork in usage. The result is that both were\n",
    "actively used for many years, and although the official \"end-of-life\" for Python 2 was 1st January 2020, you still see it around on occasion.\n",
    "\n",
    "It's a no-brainer for us to use Python 3, but this is worth bearing in mind e.g. when you are\n",
    "browsing for documentation or help."
   ]
  },
  {
   "cell_type": "markdown",
   "metadata": {},
   "source": [
    "# How can Python code be run?\n",
    "\n",
    "Python is an interpreted language, this means that when you run a python file that the python software interoperates the files contents on the fly into machine code that your computers processor can understand. The alternative would be a coding language where the code has to be compiled into another file format before it is ran by your cpu, an example of this is c++. Python is also a relatively high level language, this means that the majority of the code is abstracted into easy to use functions. \n",
    "\n",
    "If you want to run simple programs such as using python as a calculator you may simply open up a python terminal window. Try this out! \n",
    "\n",
    "1) Open up Anaconda and then Spyder.\n",
    "2) The bottom right window in Spyder is the IPython console! \n",
    "\n",
    "In the IPython console you may type out python code one line at a time, i.e. \n",
    "\n",
    "```python \n",
    "In [1] 1+2 \n",
    "Out[1] 3 \n",
    "```\n",
    "Even importing packages and using them works: \n",
    "\n",
    "```python \n",
    "In [2] import numpy as np \n",
    "\n",
    "In [3] np.sqrt(2)\n",
    "Out[3] 1.4142135623730951\n",
    "```\n",
    "there we worked out the square-root of 2, you could in theory write all of your code like this. But then what if you made a mistake, or wanted to run the same code again with a different variable? That would be majorly inconvenient!! \n",
    "\n",
    "So to make life simpler we write python scripts and save them for later use, you never know when you'll forget how to square-root a number and will need to look at a previous file for that pesky numpy square-root function!! "
   ]
  },
  {
   "cell_type": "markdown",
   "metadata": {},
   "source": [
    "# The structure of a Python file\n",
    "\n",
    "Every single Python file will start with some sort of preamble, then a large comment to tell anyone other than the coder what the file does. Next will be where packages are imported into the environment and finally the python code to be executed.\n",
    "\n",
    "   "
   ]
  },
  {
   "cell_type": "code",
   "execution_count": 3,
   "metadata": {},
   "outputs": [
    {
     "name": "stdout",
     "output_type": "stream",
     "text": [
      "1.4142135623730951\n"
     ]
    }
   ],
   "source": [
    "#!/bin/bash\n",
    "\n",
    "\"\"\"\n",
    "This File hopefully teaches you something\n",
    "\n",
    "feel free to copy and distribute\n",
    "\"\"\"\n",
    "\n",
    "import numpy as np\n",
    "\n",
    "Sqrt2 = np.sqrt(2)\n",
    "print(Sqrt2)"
   ]
  },
  {
   "cell_type": "code",
   "execution_count": null,
   "metadata": {},
   "outputs": [],
   "source": []
  }
 ],
 "metadata": {
  "kernelspec": {
   "display_name": "Python 3.9.12 ('base')",
   "language": "python",
   "name": "python3"
  },
  "language_info": {
   "codemirror_mode": {
    "name": "ipython",
    "version": 3
   },
   "file_extension": ".py",
   "mimetype": "text/x-python",
   "name": "python",
   "nbconvert_exporter": "python",
   "pygments_lexer": "ipython3",
   "version": "3.9.12"
  },
  "orig_nbformat": 4,
  "vscode": {
   "interpreter": {
    "hash": "8d904be4e2b915d74864095e2d051e926474d3fcdfd75ac59e46011c655fe56a"
   }
  }
 },
 "nbformat": 4,
 "nbformat_minor": 2
}
